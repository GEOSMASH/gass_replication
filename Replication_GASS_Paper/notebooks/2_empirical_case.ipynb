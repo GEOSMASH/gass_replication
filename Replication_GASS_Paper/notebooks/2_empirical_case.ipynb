{
 "cells": [
  {
   "cell_type": "code",
   "execution_count": 2,
   "id": "2301558a-f545-40bb-9843-3a83282844ec",
   "metadata": {},
   "outputs": [],
   "source": [
    "import sys\n",
    "import os\n",
    "\n",
    "current_path = os.path.abspath('')\n",
    "parent_path = os.path.dirname(current_path)\n",
    "\n",
    "if parent_path not in sys.path:\n",
    "    sys.path.insert(0, parent_path)\n",
    "\n",
    "import geopandas as gpd\n",
    "import pandas as pd\n",
    "import numpy as np\n",
    "import statsmodels.api as sm\n",
    "\n",
    "from smoother import ConstantTerm, LinearTerm, DistanceWeighting, SpatialWeightSmoother\n",
    "from gass import GASS"
   ]
  },
  {
   "cell_type": "markdown",
   "id": "3ad4483d-f125-42d5-ab75-5bd1905ab740",
   "metadata": {},
   "source": [
    "# Naive Strategy\n",
    "$y_{sd} = \\beta_{cap} Capacity_{sd} + \\beta_{job} lgJob_{sd} + \\beta_{poi} POI_{sd}$"
   ]
  },
  {
   "cell_type": "code",
   "execution_count": 3,
   "id": "bf484d56-873a-480a-aafa-e3de6185357d",
   "metadata": {
    "tags": []
   },
   "outputs": [],
   "source": [
    "# read data\n",
    "cb_study_area = gpd.read_file(\"../data/cb_study_area.geojson\")\n",
    "cbdf = cb_study_area[cb_study_area.trips_count != 0]"
   ]
  },
  {
   "cell_type": "code",
   "execution_count": 4,
   "id": "f37634d3-057f-4307-a3c6-59644a5dc75e",
   "metadata": {},
   "outputs": [],
   "source": [
    "Xcap_cb = cbdf.capacity.values.reshape(-1,1)\n",
    "Xjob_cb = cbdf.job19.values.reshape(-1,1)\n",
    "Xpoi_cb = cbdf.pois_count.values.reshape(-1,1)"
   ]
  },
  {
   "cell_type": "code",
   "execution_count": 5,
   "id": "6cf96d3d-f275-4a4a-ad63-511270a31055",
   "metadata": {
    "tags": []
   },
   "outputs": [
    {
     "name": "stderr",
     "output_type": "stream",
     "text": [
      "<ipython-input-5-f78e78d3d9c7>:3: RuntimeWarning: divide by zero encountered in log\n",
      "  lgXjob_cb = np.log(cbdf.job19.values.reshape(-1,1))\n"
     ]
    }
   ],
   "source": [
    "# Create X\n",
    "Xcap_cb = cbdf.capacity.values.reshape(-1,1)\n",
    "lgXjob_cb = np.log(cbdf.job19.values.reshape(-1,1))\n",
    "lgXjob_cb = np.where(lgXjob_cb < 0, 0, lgXjob_cb) # make sure that np.log(0) is 0\n",
    "Xpoi_cb = cbdf.pois_count.values.reshape(-1,1)\n",
    "\n",
    "# Standarize X\n",
    "Xcap_cb_sd = (Xcap_cb-np.mean(Xcap_cb))/np.std(Xcap_cb)\n",
    "lgXjob_cb_sd = (lgXjob_cb-np.mean(lgXjob_cb))/np.std(lgXjob_cb)\n",
    "Xpoi_cb_sd = (Xpoi_cb-np.mean(Xpoi_cb))/np.std(Xpoi_cb)\n",
    "\n",
    "X_cb_sd = np.hstack((Xcap_cb_sd, lgXjob_cb_sd, Xpoi_cb_sd))\n",
    "\n",
    "# Standardize y\n",
    "y_cb = cbdf.trips_count.values.reshape(-1,1)\n",
    "y_cb_sd = (y_cb-np.mean(y_cb))/np.std(y_cb)"
   ]
  },
  {
   "cell_type": "code",
   "execution_count": 6,
   "id": "79efbe15-fb6b-45c4-b55b-a39b239ba652",
   "metadata": {
    "tags": []
   },
   "outputs": [
    {
     "name": "stdout",
     "output_type": "stream",
     "text": [
      "                                 OLS Regression Results                                \n",
      "=======================================================================================\n",
      "Dep. Variable:                      y   R-squared (uncentered):                   0.279\n",
      "Model:                            OLS   Adj. R-squared (uncentered):              0.274\n",
      "Method:                 Least Squares   F-statistic:                              65.93\n",
      "Date:                Wed, 22 May 2024   Prob (F-statistic):                    4.61e-36\n",
      "Time:                        11:30:42   Log-Likelihood:                         -646.64\n",
      "No. Observations:                 515   AIC:                                      1299.\n",
      "Df Residuals:                     512   BIC:                                      1312.\n",
      "Df Model:                           3                                                  \n",
      "Covariance Type:            nonrobust                                                  \n",
      "==============================================================================\n",
      "                 coef    std err          t      P>|t|      [0.025      0.975]\n",
      "------------------------------------------------------------------------------\n",
      "x1             0.4776      0.038     12.701      0.000       0.404       0.551\n",
      "x2             0.0481      0.038      1.272      0.204      -0.026       0.122\n",
      "x3             0.2438      0.038      6.443      0.000       0.169       0.318\n",
      "==============================================================================\n",
      "Omnibus:                      115.417   Durbin-Watson:                   1.232\n",
      "Prob(Omnibus):                  0.000   Jarque-Bera (JB):              257.404\n",
      "Skew:                           1.174   Prob(JB):                     1.27e-56\n",
      "Kurtosis:                       5.546   Cond. No.                         1.14\n",
      "==============================================================================\n",
      "\n",
      "Notes:\n",
      "[1] R² is computed without centering (uncentered) since the model does not contain a constant.\n",
      "[2] Standard Errors assume that the covariance matrix of the errors is correctly specified.\n"
     ]
    }
   ],
   "source": [
    "ols_cb_sd = sm.OLS(y_cb_sd, X_cb_sd)\n",
    "print(ols_cb_sd.fit().summary())"
   ]
  },
  {
   "cell_type": "markdown",
   "id": "df0937d7-53a9-4d2d-9fff-0d8981578282",
   "metadata": {},
   "source": [
    "# GASS"
   ]
  },
  {
   "cell_type": "markdown",
   "id": "fb4a7b68-94cb-4964-af37-aedc71e40b20",
   "metadata": {},
   "source": [
    "$y_{sd} = \\beta_{cap} Capacity_{sd} + \\beta_{job} s(lgJob_{sd}, \\sigma_{job}) + \\beta_{poi} s(POI_{sd}, \\sigma_{POI})$"
   ]
  },
  {
   "cell_type": "code",
   "execution_count": 7,
   "id": "f53496aa-9aef-494e-b7cd-14c6067b93cf",
   "metadata": {},
   "outputs": [],
   "source": [
    "# read data\n",
    "stations_study_area = gpd.read_file(\"../data/stations_study_area.geojson\") # Stations within the study area (i.e., all bike stations in Brooklyn)\n",
    "job_cb_study_area = gpd.read_file(\"../data/job_cb_study_area.geojson\") # NO of jobs within the study area (i.e., all census blocks within the study area)\n",
    "pois_study_area = gpd.read_file(\"../data/pois_study_area.geojson\") # POIs within the study area "
   ]
  },
  {
   "cell_type": "code",
   "execution_count": 8,
   "id": "790bc243-aa1a-480c-8282-0486a52b339c",
   "metadata": {
    "tags": []
   },
   "outputs": [
    {
     "name": "stderr",
     "output_type": "stream",
     "text": [
      "<ipython-input-8-7579ab718139>:5: RuntimeWarning: divide by zero encountered in log\n",
      "  job_cb_centroid_study_area['job19'] = np.log(job_cb_centroid_study_area['job19'].values)\n"
     ]
    }
   ],
   "source": [
    "trips_stn = stations_study_area[['StationID', 'end_count', 'capacity']].rename(columns = {'end_count':'Trips_End', 'capacity':'Capacity'})\n",
    "\n",
    "# take logrithm of job\n",
    "job_cb_centroid_study_area = job_cb_study_area.set_geometry(job_cb_study_area.centroid)\n",
    "job_cb_centroid_study_area['job19'] = np.log(job_cb_centroid_study_area['job19'].values)\n",
    "job_cb_centroid_study_area['job19'] = np.where(job_cb_centroid_study_area['job19'] < 0 , 0.0, job_cb_centroid_study_area['job19'])"
   ]
  },
  {
   "cell_type": "code",
   "execution_count": 9,
   "id": "54b871c3-8cc0-4d81-8ba8-42b460172ad4",
   "metadata": {
    "tags": []
   },
   "outputs": [],
   "source": [
    "# Necessary data for smoothing job and pois\n",
    "stn4merge_gdf = stations_study_area.copy()[['StationID', 'capacity', 'geometry']].rename(columns = {'StationID': 'ID', 'capacity' : 'attr' }) \n",
    "job4merge_gdf = job_cb_centroid_study_area.copy()[['CBID', 'job19', 'geometry']].rename(columns = {'CBID': 'ID', 'job19' : 'attr' }) \n",
    "pois4merge_gdf = pois_study_area.copy()\n",
    "\n",
    "job_stn = pd.concat([stn4merge_gdf, job4merge_gdf], ignore_index=True).set_geometry('geometry').set_crs(cb_study_area.crs)\n",
    "job_df = job_cb_centroid_study_area[['CBID', 'job19']]\n",
    "\n",
    "pois_stn = pd.concat([stn4merge_gdf, pois4merge_gdf], ignore_index=True).set_geometry('geometry').set_crs(cb_study_area.crs)\n",
    "pois_df = pois_study_area[['ID', 'attr']]"
   ]
  },
  {
   "cell_type": "code",
   "execution_count": 10,
   "id": "8b46a58b-5c3d-47b0-b123-09826e28d8f9",
   "metadata": {
    "tags": []
   },
   "outputs": [],
   "source": [
    "# Construct smoothers for Xcap, Xjob and Xpois\n",
    "lin_stn_sd = LinearTerm(trips_stn, 2, standard = True) # capacity \n",
    "dw_job_stn_sd = DistanceWeighting(trips_stn, job_stn, job_df, [0,0,0,1], standard = True) # smoothing NO. of jobs of each census block\n",
    "dw_pois_stn_sd = DistanceWeighting(trips_stn, pois_stn, pois_df, [0,0,0,1], standard = True) #smoothing POIs of restaurants, bars, cafes, and shopping malls within the study area"
   ]
  },
  {
   "cell_type": "code",
   "execution_count": 11,
   "id": "b4053d80-e143-4374-a531-3538347eaf38",
   "metadata": {},
   "outputs": [],
   "source": [
    "dw_job_stn_sd.set_searching_range(-5, 0)\n",
    "dw_pois_stn_sd.set_searching_range(-5, 0)"
   ]
  },
  {
   "cell_type": "code",
   "execution_count": 12,
   "id": "02965b40-b83c-4edc-a864-25c8c4538be3",
   "metadata": {
    "tags": []
   },
   "outputs": [],
   "source": [
    "# Standarize y\n",
    "y_stn = trips_stn.Trips_End.values.reshape(-1,1)\n",
    "y_stn_sd = (y_stn - np.mean(y_stn))/(np.std(y_stn))"
   ]
  },
  {
   "cell_type": "code",
   "execution_count": 13,
   "id": "94bf79e1-a741-4d19-8221-5d378442678d",
   "metadata": {
    "tags": []
   },
   "outputs": [],
   "source": [
    "# Fit GASS model\n",
    "gass_stn_sd = GASS(y_stn_sd, lin_stn_sd, dw_job_stn_sd, dw_pois_stn_sd, constant = False)\n",
    "gass_stn_sd.fit_Gaussian()"
   ]
  },
  {
   "cell_type": "code",
   "execution_count": 14,
   "id": "a719a4a7-1376-4730-9559-b9b4185102ba",
   "metadata": {
    "tags": []
   },
   "outputs": [
    {
     "data": {
      "text/plain": [
       "array([[0.23534496],\n",
       "       [0.130504  ],\n",
       "       [0.57876038]])"
      ]
     },
     "execution_count": 14,
     "metadata": {},
     "output_type": "execute_result"
    }
   ],
   "source": [
    "gass_stn_sd.coefficients # Xcap, lgXjob, Xpoi (from top to bottom)"
   ]
  },
  {
   "cell_type": "code",
   "execution_count": 15,
   "id": "04499dff-8e6a-4e96-9658-6e0e0aad6734",
   "metadata": {},
   "outputs": [
    {
     "data": {
      "text/plain": [
       "[-4.98, -1.05]"
      ]
     },
     "execution_count": 15,
     "metadata": {},
     "output_type": "execute_result"
    }
   ],
   "source": [
    "gass_stn_sd.sigmas # Sigmas of s(lgXjob) and s(Xpoi)"
   ]
  },
  {
   "cell_type": "code",
   "execution_count": 16,
   "id": "69ccb8f8-6e92-4ac9-b1be-45e924f9744b",
   "metadata": {},
   "outputs": [],
   "source": [
    "# Compute inference statistics of GASS model\n",
    "gass_stn_sd.inference_Gaussian()"
   ]
  },
  {
   "cell_type": "code",
   "execution_count": 17,
   "id": "2aeacf93-8f8b-4358-b88b-2571d189687b",
   "metadata": {},
   "outputs": [
    {
     "data": {
      "text/plain": [
       "[(0.1738, 0.2969), (0.0706, 0.1904), (0.5173, 0.6402)]"
      ]
     },
     "execution_count": 17,
     "metadata": {},
     "output_type": "execute_result"
    }
   ],
   "source": [
    "# 95% Confidence Intervals of Coefficients # Xcap, lgXjob, Xpoi (from left to right)\n",
    "gass_stn_sd.CI_betas"
   ]
  },
  {
   "cell_type": "code",
   "execution_count": 18,
   "id": "c7080dba-3deb-4360-a7d0-06d55dd48e2d",
   "metadata": {},
   "outputs": [
    {
     "data": {
      "text/plain": [
       "array([2.36699549e-13, 2.23164673e-05, 0.00000000e+00])"
      ]
     },
     "execution_count": 18,
     "metadata": {},
     "output_type": "execute_result"
    }
   ],
   "source": [
    "# P-values of Coefficients # Xcap, lgXjob, Xpoi (from left to right)\n",
    "gass_stn_sd.pvals"
   ]
  },
  {
   "cell_type": "code",
   "execution_count": 19,
   "id": "206ad7d1-fd05-442e-8fe9-b21879294ce1",
   "metadata": {},
   "outputs": [
    {
     "data": {
      "text/plain": [
       "0.47878345900071173"
      ]
     },
     "execution_count": 19,
     "metadata": {},
     "output_type": "execute_result"
    }
   ],
   "source": [
    "# R-squared Value of GASS Model\n",
    "gass_stn_sd.R_squared"
   ]
  },
  {
   "cell_type": "code",
   "execution_count": 20,
   "id": "34704fda-18ae-42a0-a183-e19ad7984fc8",
   "metadata": {},
   "outputs": [],
   "source": [
    "from datetime import datetime\n",
    "start1 = datetime.now()\n",
    "gass_stn_sd.calculate_AWCI_sigmas(interval = 0.1)\n",
    "end1 = datetime.now()"
   ]
  },
  {
   "cell_type": "code",
   "execution_count": 21,
   "id": "d7974b9e-afa5-42e0-8674-0810cc446025",
   "metadata": {},
   "outputs": [
    {
     "name": "stdout",
     "output_type": "stream",
     "text": [
      "0:00:10.099982 [(-5.0, -2.18), (-1.1, -0.95)]\n"
     ]
    }
   ],
   "source": [
    "# end1-start1 is to track running time\n",
    "# Akaike Weight Confience Intervals of Sigmas of s(lgXjob) and s(Xpoi)\n",
    "print(end1-start1, gass_stn_sd.AWCI_sigmas)"
   ]
  },
  {
   "cell_type": "code",
   "execution_count": 22,
   "id": "ea3fa69b-a85a-405b-aed0-359a5841e8ae",
   "metadata": {
    "tags": []
   },
   "outputs": [],
   "source": [
    "start2 = datetime.now()\n",
    "gass_stn_sd.calculate_RBCI_sigmas(max_iter = 100)\n",
    "end2 = datetime.now()"
   ]
  },
  {
   "cell_type": "code",
   "execution_count": 23,
   "id": "084c84f3-b3f3-4c19-83cd-255040bb6a9c",
   "metadata": {},
   "outputs": [
    {
     "name": "stdout",
     "output_type": "stream",
     "text": [
      "6:55:46.331531 [(-4.98, -2.6333), (-1.12, -0.93)]\n"
     ]
    }
   ],
   "source": [
    "# Ressidual Bootstrap Confience Intervals of Sigmas of s(Xjob) and s(Xpoi) \n",
    "print(end2-start2, gass_stn_sd.RBCI_sigmas)"
   ]
  }
 ],
 "metadata": {
  "kernelspec": {
   "display_name": "Python 3",
   "language": "python",
   "name": "python3"
  },
  "language_info": {
   "codemirror_mode": {
    "name": "ipython",
    "version": 3
   },
   "file_extension": ".py",
   "mimetype": "text/x-python",
   "name": "python",
   "nbconvert_exporter": "python",
   "pygments_lexer": "ipython3",
   "version": "3.8.8"
  }
 },
 "nbformat": 4,
 "nbformat_minor": 5
}
